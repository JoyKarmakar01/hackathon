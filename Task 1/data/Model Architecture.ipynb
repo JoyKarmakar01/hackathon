{
 "cells": [
  {
   "cell_type": "markdown",
   "id": "b57860aa",
   "metadata": {},
   "source": [
    "## Step-by-Step Guide\n",
    "\n"
   ]
  },
  {
   "cell_type": "markdown",
   "id": "18d0f0a2",
   "metadata": {},
   "source": [
    "#### Import Libraries\n"
   ]
  },
  {
   "cell_type": "code",
   "execution_count": 2,
   "id": "db75079c",
   "metadata": {},
   "outputs": [],
   "source": [
    "# from PIL import Image\n",
    "import os\n",
    "import pandas as pd\n",
    "import numpy as np\n",
    "from tensorflow.keras.preprocessing.image import ImageDataGenerator\n",
    "from tensorflow.keras import layers, models\n",
    "from tensorflow.keras.optimizers import Adam\n",
    "from tensorflow.keras.callbacks import EarlyStopping\n",
    "from tensorflow.keras.utils import Sequence\n"
   ]
  },
  {
   "cell_type": "markdown",
   "id": "c3112492",
   "metadata": {},
   "source": [
    "#### Set Up Data Preprocessing\n"
   ]
  },
  {
   "cell_type": "code",
   "execution_count": 3,
   "id": "02955a17",
   "metadata": {},
   "outputs": [],
   "source": [
    "class DataGenerator(Sequence):\n",
    "    def __init__(self, images_dir, labels_csv, batch_size=32, image_size=(224, 224), shuffle=True):\n",
    "        self.images_dir = images_dir\n",
    "        self.labels_df = pd.read_csv(labels_csv)\n",
    "        self.batch_size = batch_size\n",
    "        self.image_size = image_size\n",
    "        self.shuffle = shuffle\n",
    "        self.image_ids = self.labels_df['image'].values\n",
    "        self.labels = self.labels_df['count'].values\n",
    "        self.on_epoch_end()\n",
    "    \n",
    "    def __len__(self):\n",
    "        return int(np.floor(len(self.image_ids) / self.batch_size))\n",
    "\n",
    "    def __getitem__(self, index):\n",
    "        indexes = self.indexes[index * self.batch_size:(index + 1) * self.batch_size]\n",
    "        image_ids_batch = [self.image_ids[k] for k in indexes]\n",
    "        labels_batch = [self.labels[k] for k in indexes]\n",
    "        \n",
    "        images = np.array([self.load_image(img_id) for img_id in image_ids_batch])\n",
    "        labels = np.array(labels_batch).astype('float32')\n",
    "        \n",
    "        return images, labels\n",
    "\n",
    "    def on_epoch_end(self):\n",
    "        self.indexes = np.arange(len(self.image_ids))\n",
    "        if self.shuffle:\n",
    "            np.random.shuffle(self.indexes)\n",
    "\n",
    "    def load_image(self, img_id):\n",
    "        img_path = os.path.join(self.images_dir, img_id)\n",
    "        img = Image.open(img_path).resize(self.image_size)\n",
    "        img = np.array(img) / 255.0\n",
    "        return img\n"
   ]
  },
  {
   "cell_type": "code",
   "execution_count": 4,
   "id": "e3e91db8",
   "metadata": {},
   "outputs": [],
   "source": [
    "train_generator = DataGenerator('model_data/train/images', 'model_data/train/output_label.csv')\n",
    "val_generator = DataGenerator('model_data/val/images', 'model_data/val/output_label.csv')\n",
    "test_generator = DataGenerator('model_data/test/images', 'model_data/test/output_label.csv')\n"
   ]
  },
  {
   "cell_type": "markdown",
   "id": "26c9faec",
   "metadata": {},
   "source": [
    "#### Define Model Architecture\n"
   ]
  },
  {
   "cell_type": "code",
   "execution_count": 5,
   "id": "33a5aa96",
   "metadata": {},
   "outputs": [
    {
     "name": "stderr",
     "output_type": "stream",
     "text": [
      "C:\\Users\\karma\\anaconda3\\lib\\site-packages\\keras\\src\\layers\\convolutional\\base_conv.py:107: UserWarning: Do not pass an `input_shape`/`input_dim` argument to a layer. When using Sequential models, prefer using an `Input(shape)` object as the first layer in the model instead.\n",
      "  super().__init__(activity_regularizer=activity_regularizer, **kwargs)\n"
     ]
    }
   ],
   "source": [
    "model = models.Sequential([\n",
    "    layers.Conv2D(32, (3, 3), activation='relu', input_shape=(224, 224, 3)),\n",
    "    layers.MaxPooling2D((2, 2)),\n",
    "    layers.Conv2D(64, (3, 3), activation='relu'),\n",
    "    layers.MaxPooling2D((2, 2)),\n",
    "    layers.Conv2D(128, (3, 3), activation='relu'),\n",
    "    layers.MaxPooling2D((2, 2)),\n",
    "    layers.Conv2D(128, (3, 3), activation='relu'),\n",
    "    layers.MaxPooling2D((2, 2)),\n",
    "    layers.Flatten(),\n",
    "    layers.Dense(512, activation='relu'),\n",
    "    layers.Dropout(0.5),\n",
    "    layers.Dense(1, activation='linear')  # Single output for regression\n",
    "])\n"
   ]
  },
  {
   "cell_type": "markdown",
   "id": "44575eb6",
   "metadata": {},
   "source": [
    "#### Compile the Model\n"
   ]
  },
  {
   "cell_type": "code",
   "execution_count": 6,
   "id": "026c755b",
   "metadata": {},
   "outputs": [],
   "source": [
    "model.compile(\n",
    "    optimizer=Adam(learning_rate=0.001),\n",
    "    loss='mean_squared_error',  # MSE for regression\n",
    "    metrics=['mae']  # MAE is helpful for interpretability in regression\n",
    ")\n"
   ]
  },
  {
   "cell_type": "markdown",
   "id": "2cbb635a",
   "metadata": {},
   "source": [
    "\n",
    "#### Train the Model\n",
    "\n",
    "\n"
   ]
  },
  {
   "cell_type": "code",
   "execution_count": null,
   "id": "be26dd6e",
   "metadata": {},
   "outputs": [
    {
     "name": "stdout",
     "output_type": "stream",
     "text": [
      "Epoch 1/10\n"
     ]
    },
    {
     "name": "stderr",
     "output_type": "stream",
     "text": [
      "C:\\Users\\karma\\anaconda3\\lib\\site-packages\\keras\\src\\trainers\\data_adapters\\py_dataset_adapter.py:121: UserWarning: Your `PyDataset` class should call `super().__init__(**kwargs)` in its constructor. `**kwargs` can include `workers`, `use_multiprocessing`, `max_queue_size`. Do not pass these arguments to `fit()`, as they will be ignored.\n",
      "  self._warn_if_super_not_called()\n"
     ]
    },
    {
     "name": "stdout",
     "output_type": "stream",
     "text": [
      "\u001b[1m45/50\u001b[0m \u001b[32m━━━━━━━━━━━━━━━━━━\u001b[0m\u001b[37m━━\u001b[0m \u001b[1m10s\u001b[0m 2s/step - loss: 536.6505 - mae: 19.3038"
     ]
    }
   ],
   "source": [
    "early_stopping = EarlyStopping(monitor='val_loss', patience=3, restore_best_weights=True)\n",
    "\n",
    "history = model.fit(\n",
    "    train_generator,\n",
    "    epochs=10,\n",
    "    validation_data=val_generator,\n",
    "    callbacks=[early_stopping]\n",
    ")\n"
   ]
  },
  {
   "cell_type": "markdown",
   "id": "3f4e941c",
   "metadata": {},
   "source": [
    "#### Evaluate the Model\n"
   ]
  },
  {
   "cell_type": "code",
   "execution_count": null,
   "id": "44f2837a",
   "metadata": {},
   "outputs": [],
   "source": [
    "test_loss, test_mae = model.evaluate(test_generator)\n",
    "print(f\"Test MAE: {test_mae}\")\n"
   ]
  },
  {
   "cell_type": "markdown",
   "id": "ee1de1b2",
   "metadata": {},
   "source": [
    "#### Save the Trained Model"
   ]
  },
  {
   "cell_type": "raw",
   "id": "5a27c554",
   "metadata": {},
   "source": [
    "pip install pyyaml h5py  # Required to save models in HDF5 format"
   ]
  },
  {
   "cell_type": "raw",
   "id": "4e034664",
   "metadata": {},
   "source": [
    "import os\n",
    "\n",
    "import tensorflow as tf\n",
    "from tensorflow import keras\n",
    "\n",
    "print(tf.version.VERSION)"
   ]
  },
  {
   "cell_type": "raw",
   "id": "c359baa2",
   "metadata": {},
   "source": [
    "import h5py\n",
    "print(h5py.__version__)\n"
   ]
  },
  {
   "cell_type": "code",
   "execution_count": null,
   "id": "77114c5c",
   "metadata": {},
   "outputs": [],
   "source": [
    "pip uninstall h5py\n"
   ]
  },
  {
   "cell_type": "raw",
   "id": "13a52991",
   "metadata": {},
   "source": [
    "model.save('my_model.keras')"
   ]
  },
  {
   "cell_type": "raw",
   "id": "345dd701",
   "metadata": {},
   "source": [
    "import tensorflow as tf\n",
    "from tensorflow.keras import backend as K\n",
    "from tensorflow.keras.optimizers import Adam\n",
    "\n",
    "# Step 1: Define the R² Score as a Custom Metric\n",
    "def r2_score(y_true, y_pred):\n",
    "    ss_res = K.sum(K.square(y_true - y_pred))  # Sum of squares of residuals\n",
    "    ss_tot = K.sum(K.square(y_true - K.mean(y_true)))  # Total sum of squares\n",
    "    return 1 - ss_res / (ss_tot + K.epsilon())  # R² score formula to avoid division by zero\n",
    "\n",
    "# Step 2: Compile the Model with the R² Score\n",
    "model.compile(\n",
    "    optimizer=Adam(learning_rate=0.001),\n",
    "    loss='mean_squared_error',  # Common loss for regression tasks\n",
    "    metrics=['mae', r2_score]   # Including MAE and the custom R² score\n",
    ")\n",
    "\n",
    "# Step 3: Train the Model\n",
    "history = model.fit(\n",
    "    train_generator,\n",
    "    epochs=10,\n",
    "    validation_data=val_generator,\n",
    "    callbacks=[early_stopping]\n",
    ")\n"
   ]
  },
  {
   "cell_type": "raw",
   "id": "3cdb3fec",
   "metadata": {},
   "source": [
    "test_loss, test_mae = model.evaluate(test_generator)\n",
    "print(f\"Test MAE: {test_mae}\")\n"
   ]
  },
  {
   "cell_type": "code",
   "execution_count": null,
   "id": "78030420",
   "metadata": {},
   "outputs": [],
   "source": []
  },
  {
   "cell_type": "code",
   "execution_count": null,
   "id": "9b4abd29",
   "metadata": {},
   "outputs": [],
   "source": [
    "# Save only the weights\n",
    "model.save_weights('model_weights')\n",
    "\n",
    "# Later, recreate the model and load weights\n",
    "model = ...  # Define your model architecture here\n",
    "model.load_weights('model_weights')\n"
   ]
  },
  {
   "cell_type": "code",
   "execution_count": null,
   "id": "97bf4d33",
   "metadata": {},
   "outputs": [],
   "source": []
  }
 ],
 "metadata": {
  "kernelspec": {
   "display_name": "Python 3 (ipykernel)",
   "language": "python",
   "name": "python3"
  },
  "language_info": {
   "codemirror_mode": {
    "name": "ipython",
    "version": 3
   },
   "file_extension": ".py",
   "mimetype": "text/x-python",
   "name": "python",
   "nbconvert_exporter": "python",
   "pygments_lexer": "ipython3",
   "version": "3.9.20"
  }
 },
 "nbformat": 4,
 "nbformat_minor": 5
}
