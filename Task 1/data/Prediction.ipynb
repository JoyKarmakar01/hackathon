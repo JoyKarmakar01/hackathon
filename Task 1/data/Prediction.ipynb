{
 "cells": [
  {
   "cell_type": "code",
   "execution_count": null,
   "id": "7fd4ef5c",
   "metadata": {},
   "outputs": [],
   "source": [
    "from tensorflow.keras.models import load_model\n",
    "import numpy as np\n",
    "from PIL import Image\n",
    "import os\n",
    "\n",
    "# 1. Load the Saved Model\n",
    "model = load_model('path_to_your_saved_model.h5')  # Replace with the actual path"
   ]
  },
  {
   "cell_type": "code",
   "execution_count": null,
   "id": "9523153d",
   "metadata": {},
   "outputs": [],
   "source": [
    "# 2. Prepare the Image for Prediction (Example: resizing and scaling)\n",
    "def prepare_image(image_path, image_size=(224, 224)):\n",
    "    # Open the image, resize, and scale it\n",
    "    img = Image.open(image_path).resize(image_size)\n",
    "    img = np.array(img) / 255.0  # Normalize to [0, 1]\n",
    "    img = np.expand_dims(img, axis=0)  # Add batch dimension\n",
    "    return img"
   ]
  },
  {
   "cell_type": "code",
   "execution_count": null,
   "id": "40a2ad65",
   "metadata": {},
   "outputs": [],
   "source": [
    "# 3. Make Predictions\n",
    "def predict_image(model, image_path):\n",
    "    # Prepare the image\n",
    "    img = prepare_image(image_path)\n",
    "    # Predict the number of people\n",
    "    prediction = model.predict(img)\n",
    "    return prediction"
   ]
  },
  {
   "cell_type": "code",
   "execution_count": null,
   "id": "171e8d74",
   "metadata": {},
   "outputs": [],
   "source": [
    "# Example usage\n",
    "image_path = 'path_to_image.jpg'  # Replace with the path of the image you want to predict\n",
    "prediction = predict_image(model, image_path)\n",
    "print(f\"Predicted count: {prediction[0][0]}\")"
   ]
  },
  {
   "cell_type": "markdown",
   "id": "4d922c1f",
   "metadata": {},
   "source": [
    "#### Handling Multiple Predictions"
   ]
  },
  {
   "cell_type": "code",
   "execution_count": null,
   "id": "31ce8ae6",
   "metadata": {},
   "outputs": [],
   "source": [
    "def predict_multiple_images(model, image_paths):\n",
    "    images = np.array([prepare_image(path) for path in image_paths])  # Prepare all images\n",
    "    predictions = model.predict(images)\n",
    "    return predictions\n",
    "\n",
    "# Example usage for multiple images\n",
    "image_paths = ['path_to_image1.jpg', 'path_to_image2.jpg', 'path_to_image3.jpg']\n",
    "predictions = predict_multiple_images(model, image_paths)\n",
    "print(f\"Predicted counts: {predictions.flatten()}\")\n"
   ]
  }
 ],
 "metadata": {
  "kernelspec": {
   "display_name": "Python 3 (ipykernel)",
   "language": "python",
   "name": "python3"
  },
  "language_info": {
   "codemirror_mode": {
    "name": "ipython",
    "version": 3
   },
   "file_extension": ".py",
   "mimetype": "text/x-python",
   "name": "python",
   "nbconvert_exporter": "python",
   "pygments_lexer": "ipython3",
   "version": "3.9.20"
  }
 },
 "nbformat": 4,
 "nbformat_minor": 5
}
